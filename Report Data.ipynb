{
 "cells": [
  {
   "cell_type": "markdown",
   "id": "4ca3f71c",
   "metadata": {},
   "source": [
    "\n",
    "## Clean_set\n",
    "\tACC              [0.975 0.99  0.98  0.965 0.985 0.965 0.965 0.955 0.98  0.97 ]\n",
    "\tACC by evaluate_function 0.973\n",
    "\tprecision                [0.98221344 0.96192385 0.95564516 0.99198397]\n",
    "\trecall                   [0.994 0.96  0.948 0.99 ]\n",
    "\tf1_measure               [0.98807157 0.96096096 0.95180723 0.99099099]\n",
    "\tACC Mean:                0.9730000000000001\n",
    "\tACC Std:                 0.01029563014098701\n",
    "   ---\n",
    "## Noisy_set\n",
    "    ACC              [0.83  0.805 0.815 0.79  0.795 0.86  0.865 0.79  0.855 0.75 ]\n",
    "\tACC by evaluate_function 0.8155000000000001\n",
    "\tprecision                [0.79310345 0.82892057 0.82907662 0.81065089]\n",
    "\trecall                   [0.79795918 0.81891348 0.81941748 0.8253012 ]\n",
    "\tf1_measure               [0.79552391 0.82388664 0.82421875 0.81791045]\n",
    "\tACC Mean:                0.8155000000000001\n",
    "\tACC Std:                 0.03510341863693619\n",
    "    "
   ]
  },
  {
   "cell_type": "markdown",
   "id": "ae9dce54",
   "metadata": {},
   "source": [
    "**Result analysis** Comment for both datasets which rooms are recognized with high/low accuracy, and which rooms are confused. 5 lines max."
   ]
  },
  {
   "cell_type": "markdown",
   "id": "746d9f77",
   "metadata": {},
   "source": [
    "clean set:\n",
    "    f1_measure --> the score of room2 & 3 are slightly lower\n",
    "    "
   ]
  },
  {
   "cell_type": "code",
   "execution_count": null,
   "id": "4b6efa4b",
   "metadata": {},
   "outputs": [],
   "source": [
    "\n",
    "Dataset differences: Is there any difference in the performance when using the clean and noisy datasets? If yes/no explain why. 5 lines max."
   ]
  }
 ],
 "metadata": {
  "kernelspec": {
   "display_name": "Python 3 (ipykernel)",
   "language": "python",
   "name": "python3"
  },
  "language_info": {
   "codemirror_mode": {
    "name": "ipython",
    "version": 3
   },
   "file_extension": ".py",
   "mimetype": "text/x-python",
   "name": "python",
   "nbconvert_exporter": "python",
   "pygments_lexer": "ipython3",
   "version": "3.9.12"
  }
 },
 "nbformat": 4,
 "nbformat_minor": 5
}
